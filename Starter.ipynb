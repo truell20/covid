{
 "cells": [
  {
   "cell_type": "code",
   "execution_count": 1,
   "metadata": {},
   "outputs": [
    {
     "name": "stdout",
     "output_type": "stream",
     "text": [
      "Not monotonic \" Japan \"\n",
      "Not monotonic \" Bahrain \"\n",
      "Not monotonic \" Cruise Ship \"\n",
      "Not monotonic \" Italy \"\n",
      "Not monotonic \" Egypt \"\n",
      "Not monotonic \" Andorra \"\n",
      "Not monotonic \" \"Korea, South\" \"\n",
      "Not monotonic \" Cruise Ship \"\n",
      "[548, 643, 920, 1406, 2075, 2877, 5509, 6087, 8141, 9802, 11891, 16630, 19716, 23707, 27440, 30587, 34110, 36814, 39829, 42354, 44386, 44759, 59895, 66358, 68413, 70513, 72434, 74211, 74619, 75077, 75550, 77001, 77022, 77241, 77754, 78166, 78600, 78928, 79356, 79932, 80136, 80261, 80386, 80537, 80690, 80770, 80823, 80860, 80887, 80921, 80932, 80945, 80977, 81003]\n"
     ]
    }
   ],
   "source": [
    "from csv import reader\n",
    "import re\n",
    "import seaborn as sns\n",
    "import pandas as pd\n",
    "import matplotlib.pyplot as plt\n",
    "\n",
    "fld = 'COVID-19/csse_covid_19_data/csse_covid_19_time_series/'\n",
    "fldt = (fld+'/time_series_19-covid-%s.csv')\n",
    "\n",
    "def is_monotonic(tt):\n",
    "    return all(tt[i+1] - tt[i] >= 0 for i in range(len(tt)-1))\n",
    "\n",
    "def l(n):\n",
    "    ls = [re.split(r',(?=(?:\"[^\"]*?(?: [^\"]*)*))|,(?=[^\",]+(?:,|$))', l) \n",
    "          for l in open(fldt % n, 'r').read().strip().split('\\n')]\n",
    "    time_len = len(ls[0][4:])\n",
    "    \n",
    "    by_country = {}\n",
    "    for c in ls[1:]:\n",
    "        cc = c[1].strip()\n",
    "        if cc not in by_country:\n",
    "            by_country[cc] = [0 for _ in range(time_len)]\n",
    "        for i in range(time_len):\n",
    "            by_country[cc][i] += int(c[4+i])\n",
    "    todel = []\n",
    "    for k, v in by_country.items():\n",
    "        if not is_monotonic(v):\n",
    "            print('Not monotonic \"', k, '\"')\n",
    "            todel.append(k)\n",
    "    #for k in todel:\n",
    "    #    del by_country[k]\n",
    "    return by_country\n",
    "\n",
    "deaths = l('Deaths')\n",
    "confirmed = l('Confirmed')\n",
    "recovered = l('Recovered')\n",
    "print(confirmed[\"China\"])"
   ]
  },
  {
   "cell_type": "code",
   "execution_count": null,
   "metadata": {},
   "outputs": [],
   "source": []
  }
 ],
 "metadata": {
  "kernelspec": {
   "display_name": "Python 3",
   "language": "python",
   "name": "python3"
  },
  "language_info": {
   "codemirror_mode": {
    "name": "ipython",
    "version": 3
   },
   "file_extension": ".py",
   "mimetype": "text/x-python",
   "name": "python",
   "nbconvert_exporter": "python",
   "pygments_lexer": "ipython3",
   "version": "3.6.9"
  }
 },
 "nbformat": 4,
 "nbformat_minor": 2
}
